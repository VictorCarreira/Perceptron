{
 "cells": [
  {
   "cell_type": "markdown",
   "metadata": {},
   "source": [
    "<img src='Imagens/logon.jpg' width=\"400px\" align=\"center\">\n"
   ]
  },
  {
   "cell_type": "code",
   "execution_count": 8,
   "metadata": {},
   "outputs": [],
   "source": [
    "import numpy as np\n",
    "import matplotlib.pyplot as plt\n",
    "import random\n",
    "from random import shuffle\n",
    "import pandas as pd"
   ]
  },
  {
   "cell_type": "code",
   "execution_count": 10,
   "metadata": {},
   "outputs": [
    {
     "data": {
      "image/png": "[encoded data removed]",
      "text/plain": [
       "<matplotlib.figure.Figure at 0x7f54b23d7ac8>"
      ]
     },
     "metadata": {},
     "output_type": "display_data"
    }
   ],
   "source": [
    "# ----- Acessando os dados: -----\n",
    "\n",
    "df = pd.read_csv('https://archive.ics.uci.edu/ml/machine-learning-databases/iris/iris.data') # usar o pandas para acessar dados online\n",
    "\n",
    "y = df.iloc[0:20, 3].values\n",
    "X = df.iloc[0:100, [0, 2]].values\n",
    "\n",
    "# Amostragem após 50 pertence a Iris-versicolor\n",
    "plt.scatter(X[:50, 0], X[:50, 1],color='red', marker='o', label='setosa')\n",
    "plt.scatter(X[50:100, 0], X[50:100, 1],color='blue', marker='x', label='versicolor')\n",
    "plt.xlabel('comprimento petala')\n",
    "plt.ylabel('comprimento sepala')\n",
    "plt.legend(loc='upper left')\n",
    "plt.show() "
   ]
  },
  {
   "cell_type": "code",
   "execution_count": 4,
   "metadata": {},
   "outputs": [
    {
     "data": {
      "image/png": "[encoded data removed]",
      "text/plain": [
       "<matplotlib.figure.Figure at 0x7f54b2513cf8>"
      ]
     },
     "metadata": {},
     "output_type": "display_data"
    },
    {
     "name": "stdout",
     "output_type": "stream",
     "text": [
      "originais: wa0= 0.4 |wb0= 0.5\n",
      "ym = [1, 1, 1, 1, 1, 1, 1, 1, 1, 1, 1, 1, 1, 1, 1, 1, 1, 1, 1, 1, 1, 1, 1, 1, 1, 1, 1, 1, 1, 1, 1, 1, 1, 1, 1, 1, 1, 1, 1, 1, 1, 1, 1, 1, 1, 1, 1, 1, 1, 1, 1, 1, 1, 1, 1, 1, 1, 1, 1, 1, 1, 1, 1, 1, 1, 1, 1, 1, 1, 1, 1, 1, 1, 1, 1, 1, 1, 1, 1, 1, 1, 1, 1, 1, 1, 1, 1, 1, 1, 1, 1, 1, 1, 1, 1, 1, 1, 1, 1, 1]\n",
      "yr = [1, 1, 1, 1, 1, 1, 1, 1, 1, 1, 1, 1, 1, 1, 1, 1, 1, 1, 1, 1, 1, 1, 1, 1, 1, 1, 1, 1, 1, 1, 1, 1, 1, 1, 1, 1, 1, 1, 1, 1, 1, 1, 1, 1, 1, 1, 1, 1, 1, 1, 1, -1, -1, -1, -1, -1, -1, -1, -1, -1, -1, -1, -1, -1, -1, -1, -1, -1, -1, -1, -1, -1, -1, -1, -1, -1, -1, -1, -1, -1, -1, -1, -1, -1, -1, -1, -1, -1, -1, -1, -1, -1, -1, -1, -1, -1, -1, -1, -1, -1]\n"
     ]
    }
   ],
   "source": [
    "# ----- Pre-processamento: -----\n",
    "\n",
    "# scatterplot; dado não discriminado:\n",
    "plt.plot(X[:,0],X[:,1],'ob')\n",
    "plt.show()\n",
    "\n",
    "# definindo parâmetros:\n",
    "\n",
    "semente = 4\n",
    "teta = 1.5 # valor padrão de teta\n",
    "random.seed(semente) # Pseudo aleatório (seed)\n",
    "\n",
    "yr = [] # y real, 1 e setosa e -1 e versicolor\n",
    "\n",
    "for i in range (len(X[:,0])):\n",
    "  if i <= 50: # 50, aonde se define se é setosa ou versicolor (>= 50 é versicolor devido ao arranjo dos dados)\n",
    "    a = 1  # setosa\n",
    "  else:\n",
    "    a = -1 # versicolor\n",
    "  yr.append(a)\n",
    "\n",
    "wa0 = 0.1*random.randrange(1, 9,1);\n",
    "wb0 = 0.1*random.randrange(1, 9,1);\n",
    "\n",
    "print(\"originais:\",'wa0=',wa0,'|wb0=',wb0)\n",
    "\n",
    "ym = [] # y modelo, inicial = tudo setosa\n",
    "for i in range(len(X[:,0])): # Primeiro passo isolado de treino\n",
    "  z0 = wa0*X[:,0][i] + wb0*X[:,1][i] # calculo de Z\n",
    "\n",
    "  if z0 >= teta: # calculo de ym\n",
    "    ym0 = 1\n",
    "  else:\n",
    "    ym0 = -1\n",
    "    \n",
    "  ym.append(ym0)\n",
    "  \n",
    "print('ym =',ym)\n",
    "print('yr =',yr)"
   ]
  },
  {
   "cell_type": "code",
   "execution_count": 5,
   "metadata": {},
   "outputs": [
    {
     "name": "stdout",
     "output_type": "stream",
     "text": [
      "ponderações perceptron wa0= 3.16 |wb0= -6.4\n",
      "ymm = [1, 1, 1, 1, 1, 1, 1, 1, 1, 1, 1, 1, 1, 1, 1, 1, 1, 1, 1, 1, 1, 1, 1, 1, 1, 1, 1, 1, 1, 1, 1, 1, 1, 1, 1, 1, 1, 1, 1, 1, 1, 1, 1, 1, 1, 1, 1, 1, 1, -1, -1, -1, -1, -1, -1, -1, -1, -1, -1, -1, -1, -1, -1, -1, -1, -1, -1, -1, -1, -1, -1, -1, -1, -1, -1, -1, -1, -1, -1, -1, -1, -1, -1, -1, -1, -1, -1, -1, -1, -1, -1, -1, -1, -1, -1, -1, -1, -1, -1, -1]\n",
      "yro = [1, 1, 1, 1, 1, 1, 1, 1, 1, 1, 1, 1, 1, 1, 1, 1, 1, 1, 1, 1, 1, 1, 1, 1, 1, 1, 1, 1, 1, 1, 1, 1, 1, 1, 1, 1, 1, 1, 1, 1, 1, 1, 1, 1, 1, 1, 1, 1, 1, 1, 1, -1, -1, -1, -1, -1, -1, -1, -1, -1, -1, -1, -1, -1, -1, -1, -1, -1, -1, -1, -1, -1, -1, -1, -1, -1, -1, -1, -1, -1, -1, -1, -1, -1, -1, -1, -1, -1, -1, -1, -1, -1, -1, -1, -1, -1, -1, -1, -1, -1]\n"
     ]
    }
   ],
   "source": [
    "# ----- Treino: -----\n",
    "random.seed(semente) # Pseudo aleatório (seed)\n",
    "\n",
    "wa0 = 0.1*random.randrange(1, 9,1); \n",
    "wb0 = 0.1*random.randrange(1, 9,1); # Valores repetidos nesta celula para evitar o re-treinamento indevido.\n",
    "\n",
    "rr = [] # vetor aleatorio de indices (como os indices variam de 0 ate 148, e como so variam depois de 50,\n",
    "        # foi implementado um vetor de indices aleatorios para efetivar o treinamento)\n",
    "  \n",
    "for i in range(len(yr)):\n",
    "  rr.append(random.randrange(0, len(yr)-1,1))\n",
    "\n",
    "for i in rr: # para o indice aleatorio I:\n",
    "  for j in range(10): # para um minimo de interações locais 10:\n",
    "    z0 = wa0*X[:,0][i] + wb0*X[:,1][i] # calculo de z\n",
    "      \n",
    "    if z0 >= teta: # calculo de ym\n",
    "      ym0 = 1\n",
    "    else:\n",
    "      ym0 = -1\n",
    "\n",
    "    Dwa = 0.3*(yr[i] - ym0)*X[:,0][i]; # calculo de Delta w (entrada de dados das pétalas)\n",
    "    Dwb = 0.3*(yr[i] - ym0)*X[:,1][i]; # calculo de Delta w (entrada de dados das sépalas)\n",
    "\n",
    "    wa0 += Dwa # update das ponderações\n",
    "    wb0 += Dwb\n",
    "\n",
    "print(\"ponderações perceptron\",'wa0=',wa0,'|wb0=',wb0)\n",
    "\n",
    "# ----- Teste do novo modelo (novas ponderações): -----\n",
    "    \n",
    "ymm = [] # novo modelo\n",
    "for i in range(len(X[:,0])):\n",
    "  z0 = wa0*X[:,0][i] + wb0*X[:,1][i] # novo modelo, admite qualquer valor de x1 ou x2 e define se é setosa ou versicolor\n",
    "\n",
    "  if z0 >= teta: # mesmo teta\n",
    "    ym0 = 1\n",
    "  else:\n",
    "    ym0 = -1\n",
    "    \n",
    "  ymm.append(ym0)\n",
    "  \n",
    "\n",
    "\n",
    "print('ymm =',ymm)\n",
    "print('yro =',yr)"
   ]
  },
  {
   "cell_type": "code",
   "execution_count": 6,
   "metadata": {},
   "outputs": [
    {
     "data": {
      "image/png": "[encoded data removed]",
      "text/plain": [
       "<matplotlib.figure.Figure at 0x7f54b24dcb70>"
      ]
     },
     "metadata": {},
     "output_type": "display_data"
    }
   ],
   "source": [
    "# Teste com dados sintéticos:\n",
    "# 4.5 a 7.0\n",
    "# 1.0 a 6.0\n",
    "\n",
    "random.seed(semente) # Pseudo aleatório (seed)\n",
    "x1 = []\n",
    "x2 = []\n",
    "for i in range(50):\n",
    "  x1.append(0.1*random.randrange(45, 70,1))\n",
    "  x2.append(0.1*random.randrange(10, 60,1))\n",
    "\n",
    "  \n",
    "yms = [] \n",
    "for i in range(len(x1)):\n",
    "  z0 = wa0*x1[i] + wb0*x2[i]\n",
    "\n",
    "  if z0 >= teta:\n",
    "    ym0 = 1\n",
    "  else:\n",
    "    ym0 = -1\n",
    "    \n",
    "  yms.append(ym0)\n",
    "  \n",
    "for i in range(len(x1)):\n",
    "  if yms[i] == 1:\n",
    "    plt.plot(x1[i],x2[i],'or')\n",
    "  if yms[i] == -1:\n",
    "    plt.plot(x1[i],x2[i],'ob')\n",
    "    \n",
    "plt.show()"
   ]
  },
  {
   "cell_type": "code",
   "execution_count": null,
   "metadata": {
    "collapsed": true
   },
   "outputs": [],
   "source": [
    "\n",
    "\n",
    "\n"
   ]
  }
 ],
 "metadata": {
  "kernelspec": {
   "display_name": "Python 3",
   "language": "python",
   "name": "python3"
  },
  "language_info": {
   "codemirror_mode": {
    "name": "ipython",
    "version": 3
   },
   "file_extension": ".py",
   "mimetype": "text/x-python",
   "name": "python",
   "nbconvert_exporter": "python",
   "pygments_lexer": "ipython3",
   "version": "3.6.3"
  }
 },
 "nbformat": 4,
 "nbformat_minor": 2
}
